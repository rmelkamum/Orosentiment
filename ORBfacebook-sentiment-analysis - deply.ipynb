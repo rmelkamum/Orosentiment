{
 "cells": [
  {
   "cell_type": "markdown",
   "id": "a679eb6f",
   "metadata": {
    "execution": {
     "iopub.execute_input": "2021-06-29T16:53:03.143789Z",
     "iopub.status.busy": "2021-06-29T16:53:03.142088Z",
     "iopub.status.idle": "2021-06-29T16:53:03.144605Z",
     "shell.execute_reply": "2021-06-29T16:53:03.145080Z",
     "shell.execute_reply.started": "2021-06-29T15:57:06.131907Z"
    },
    "papermill": {
     "duration": 0.065755,
     "end_time": "2021-06-29T16:53:03.145384",
     "exception": false,
     "start_time": "2021-06-29T16:53:03.079629",
     "status": "completed"
    },
    "tags": []
   },
   "source": [
    "# ORB-facebook-comments-sentiment-analysis"
   ]
  },
  {
   "cell_type": "code",
   "execution_count": null,
   "id": "iraqi-vocabulary",
   "metadata": {
    "execution": {
     "iopub.execute_input": "2021-06-29T16:53:03.262309Z",
     "iopub.status.busy": "2021-06-29T16:53:03.261454Z",
     "iopub.status.idle": "2021-06-29T16:53:03.264983Z",
     "shell.execute_reply": "2021-06-29T16:53:03.264487Z",
     "shell.execute_reply.started": "2021-06-29T15:57:06.143507Z"
    },
    "papermill": {
     "duration": 0.066249,
     "end_time": "2021-06-29T16:53:03.265123",
     "exception": false,
     "start_time": "2021-06-29T16:53:03.198874",
     "status": "completed"
    },
    "tags": []
   },
   "outputs": [],
   "source": [
    "import warnings\n",
    "warnings.filterwarnings(\"ignore\")\n",
    "import numpy as np\n",
    "import pandas as pd\n",
    "import nltk\n",
    "import gradio as gr\n",
    "import gradio\n",
    "import joblib\n",
    "from tensorflow.keras.preprocessing.text import Tokenizer\n",
    "from tensorflow.keras.preprocessing.sequence import pad_sequences"
   ]
  },
  {
   "cell_type": "code",
   "execution_count": null,
   "id": "prerequisite-smell",
   "metadata": {
    "execution": {
     "iopub.execute_input": "2021-06-29T16:53:03.389393Z",
     "iopub.status.busy": "2021-06-29T16:53:03.388530Z",
     "iopub.status.idle": "2021-06-29T16:53:03.560950Z",
     "shell.execute_reply": "2021-06-29T16:53:03.561457Z",
     "shell.execute_reply.started": "2021-06-29T15:57:06.158431Z"
    },
    "papermill": {
     "duration": 0.235778,
     "end_time": "2021-06-29T16:53:03.561640",
     "exception": false,
     "start_time": "2021-06-29T16:53:03.325862",
     "status": "completed"
    },
    "tags": []
   },
   "outputs": [],
   "source": [
    "#load csv file\n",
    "Train = pd.read_csv(\"Posts_comment2.csv\",names=['text','label'])\n",
    "data=Train\n",
    "data.head()"
   ]
  },
  {
   "cell_type": "code",
   "execution_count": null,
   "id": "8a7ac055",
   "metadata": {},
   "outputs": [],
   "source": [
    "aforstopwords = pd.read_csv(\"aforstopwords.txt\")\n",
    "aforstopwords.head()"
   ]
  },
  {
   "cell_type": "code",
   "execution_count": null,
   "id": "29a5f209",
   "metadata": {},
   "outputs": [],
   "source": [
    "test_data = pd.read_csv(\"Posts_comment_test.csv\",names=['text'])\n",
    "test_data.head()"
   ]
  },
  {
   "cell_type": "code",
   "execution_count": null,
   "id": "industrial-palestine",
   "metadata": {
    "execution": {
     "iopub.execute_input": "2021-06-29T16:53:05.654996Z",
     "iopub.status.busy": "2021-06-29T16:53:05.648080Z",
     "iopub.status.idle": "2021-06-29T16:53:05.982089Z",
     "shell.execute_reply": "2021-06-29T16:53:05.981557Z",
     "shell.execute_reply.started": "2021-06-29T15:57:07.718486Z"
    },
    "papermill": {
     "duration": 0.39935,
     "end_time": "2021-06-29T16:53:05.982223",
     "exception": false,
     "start_time": "2021-06-29T16:53:05.582873",
     "status": "completed"
    },
    "tags": []
   },
   "outputs": [],
   "source": [
    "#Removing Punctuations, Numbers, and Special Characters\n",
    "#[a-zA-Z] = Any single character in the range a-z or A-Z\n",
    "# ^ = Start of line \n",
    "# $ = End of line \n",
    "\n",
    "data['text'] = data['text'].str.replace(\"[^a-zA-Z#]\", \" \")\n",
    "data['text'] = data['text'].str.replace(\"#\", \"\")\n",
    "#data.head()"
   ]
  },
  {
   "cell_type": "code",
   "execution_count": null,
   "id": "neutral-bargain",
   "metadata": {
    "execution": {
     "iopub.execute_input": "2021-06-29T16:53:06.122857Z",
     "iopub.status.busy": "2021-06-29T16:53:06.107267Z",
     "iopub.status.idle": "2021-06-29T16:53:06.301142Z",
     "shell.execute_reply": "2021-06-29T16:53:06.301953Z",
     "shell.execute_reply.started": "2021-06-29T15:57:08.084397Z"
    },
    "papermill": {
     "duration": 0.261657,
     "end_time": "2021-06-29T16:53:06.302153",
     "exception": false,
     "start_time": "2021-06-29T16:53:06.040496",
     "status": "completed"
    },
    "tags": []
   },
   "outputs": [],
   "source": [
    "test_data['text'] = test_data['text'].str.replace(\"[^a-zA-Z#]\", \" \")\n",
    "test_data['text'] = test_data['text'].str.replace(\"#\", \"\")\n",
    "#test_data.head()"
   ]
  },
  {
   "cell_type": "code",
   "execution_count": null,
   "id": "expected-freeze",
   "metadata": {
    "execution": {
     "iopub.execute_input": "2021-06-29T16:53:06.443572Z",
     "iopub.status.busy": "2021-06-29T16:53:06.442784Z",
     "iopub.status.idle": "2021-06-29T16:53:06.661997Z",
     "shell.execute_reply": "2021-06-29T16:53:06.660921Z",
     "shell.execute_reply.started": "2021-06-29T15:57:08.288388Z"
    },
    "papermill": {
     "duration": 0.299334,
     "end_time": "2021-06-29T16:53:06.662200",
     "exception": false,
     "start_time": "2021-06-29T16:53:06.362866",
     "status": "completed"
    },
    "tags": []
   },
   "outputs": [],
   "source": [
    "# get most common words in training dataset\n",
    "from collections import Counter \n",
    "all_words = []\n",
    "for line in list(data['text']):\n",
    "    words = line.split()\n",
    "    for word in words:\n",
    "        all_words.append(word.lower())\n",
    "    \n",
    "    \n",
    "a=Counter(all_words).most_common(10)\n",
    "a"
   ]
  },
  {
   "cell_type": "code",
   "execution_count": null,
   "id": "contained-round",
   "metadata": {
    "execution": {
     "iopub.execute_input": "2021-06-29T16:53:06.785618Z",
     "iopub.status.busy": "2021-06-29T16:53:06.784907Z",
     "iopub.status.idle": "2021-06-29T16:53:06.986588Z",
     "shell.execute_reply": "2021-06-29T16:53:06.987028Z",
     "shell.execute_reply.started": "2021-06-29T15:57:08.514314Z"
    },
    "papermill": {
     "duration": 0.266643,
     "end_time": "2021-06-29T16:53:06.987210",
     "exception": false,
     "start_time": "2021-06-29T16:53:06.720567",
     "status": "completed"
    },
    "tags": []
   },
   "outputs": [],
   "source": [
    "#tokenization\n",
    "data['text'] = data['text'].apply(lambda x: x.split())\n",
    "data.head()"
   ]
  },
  {
   "cell_type": "code",
   "execution_count": null,
   "id": "desperate-worship",
   "metadata": {
    "execution": {
     "iopub.execute_input": "2021-06-29T16:53:07.110449Z",
     "iopub.status.busy": "2021-06-29T16:53:07.109768Z",
     "iopub.status.idle": "2021-06-29T16:53:07.160474Z",
     "shell.execute_reply": "2021-06-29T16:53:07.161052Z",
     "shell.execute_reply.started": "2021-06-29T15:57:08.720726Z"
    },
    "papermill": {
     "duration": 0.114147,
     "end_time": "2021-06-29T16:53:07.161231",
     "exception": false,
     "start_time": "2021-06-29T16:53:07.047084",
     "status": "completed"
    },
    "tags": []
   },
   "outputs": [],
   "source": [
    "test_data['text'] = test_data['text'].apply(lambda x: x.split())\n",
    "test_data.head()"
   ]
  },
  {
   "cell_type": "code",
   "execution_count": null,
   "id": "broken-original",
   "metadata": {
    "execution": {
     "iopub.execute_input": "2021-06-29T16:53:07.283146Z",
     "iopub.status.busy": "2021-06-29T16:53:07.282456Z",
     "iopub.status.idle": "2021-06-29T16:53:17.697490Z",
     "shell.execute_reply": "2021-06-29T16:53:17.698010Z",
     "shell.execute_reply.started": "2021-06-29T15:57:08.777047Z"
    },
    "papermill": {
     "duration": 10.477415,
     "end_time": "2021-06-29T16:53:17.698230",
     "exception": false,
     "start_time": "2021-06-29T16:53:07.220815",
     "status": "completed"
    },
    "tags": []
   },
   "outputs": [],
   "source": [
    "#stemmer\n",
    "from nltk.stem import PorterStemmer\n",
    "stemmer = PorterStemmer()\n",
    "\n",
    "data['text']= data['text'].apply(lambda x: [stemmer.stem(i) for i in x])\n",
    "data.head(10)"
   ]
  },
  {
   "cell_type": "code",
   "execution_count": null,
   "id": "affiliated-therapist",
   "metadata": {
    "execution": {
     "iopub.execute_input": "2021-06-29T16:53:17.822464Z",
     "iopub.status.busy": "2021-06-29T16:53:17.821764Z",
     "iopub.status.idle": "2021-06-29T16:53:22.850129Z",
     "shell.execute_reply": "2021-06-29T16:53:22.850669Z",
     "shell.execute_reply.started": "2021-06-29T15:57:19.610466Z"
    },
    "papermill": {
     "duration": 5.091172,
     "end_time": "2021-06-29T16:53:22.850844",
     "exception": false,
     "start_time": "2021-06-29T16:53:17.759672",
     "status": "completed"
    },
    "tags": []
   },
   "outputs": [],
   "source": [
    "test_data['text']= test_data['text'].apply(lambda x: [stemmer.stem(i) for i in x])\n",
    "test_data.head()"
   ]
  },
  {
   "cell_type": "code",
   "execution_count": null,
   "id": "crude-capture",
   "metadata": {
    "execution": {
     "iopub.execute_input": "2021-06-29T16:53:23.382559Z",
     "iopub.status.busy": "2021-06-29T16:53:23.381741Z",
     "iopub.status.idle": "2021-06-29T16:53:23.394182Z",
     "shell.execute_reply": "2021-06-29T16:53:23.393439Z",
     "shell.execute_reply.started": "2021-06-29T15:57:24.862873Z"
    },
    "papermill": {
     "duration": 0.080245,
     "end_time": "2021-06-29T16:53:23.394337",
     "exception": false,
     "start_time": "2021-06-29T16:53:23.314092",
     "status": "completed"
    },
    "tags": []
   },
   "outputs": [],
   "source": [
    "from nltk.corpus import stopwords\n",
    "from nltk.tokenize import word_tokenize"
   ]
  },
  {
   "cell_type": "code",
   "execution_count": null,
   "id": "expressed-practitioner",
   "metadata": {
    "execution": {
     "iopub.execute_input": "2021-06-29T16:53:23.649739Z",
     "iopub.status.busy": "2021-06-29T16:53:23.649112Z",
     "iopub.status.idle": "2021-06-29T16:53:23.655523Z",
     "shell.execute_reply": "2021-06-29T16:53:23.654955Z",
     "shell.execute_reply.started": "2021-06-29T15:57:24.903182Z"
    },
    "papermill": {
     "duration": 0.069697,
     "end_time": "2021-06-29T16:53:23.655662",
     "exception": false,
     "start_time": "2021-06-29T16:53:23.585965",
     "status": "completed"
    },
    "tags": []
   },
   "outputs": [],
   "source": [
    "import string \n",
    "\n",
    "def process(text):\n",
    "    # Check characters to see if they are in punctuation\n",
    "    nopunc = set(char for char in list(text) if char not in string.punctuation)\n",
    "    # Join the characters to form the string.\n",
    "    nopunc = \" \".join(nopunc)\n",
    "    # remove any stopwords if present\n",
    "    return [word for word in nopunc.lower().split() if word.lower() not in aforstopwords]\n",
    "    "
   ]
  },
  {
   "cell_type": "code",
   "execution_count": null,
   "id": "potential-passing",
   "metadata": {
    "execution": {
     "iopub.execute_input": "2021-06-29T16:53:23.785764Z",
     "iopub.status.busy": "2021-06-29T16:53:23.785075Z",
     "iopub.status.idle": "2021-06-29T16:53:24.722397Z",
     "shell.execute_reply": "2021-06-29T16:53:24.721741Z",
     "shell.execute_reply.started": "2021-06-29T15:57:24.910726Z"
    },
    "papermill": {
     "duration": 1.004082,
     "end_time": "2021-06-29T16:53:24.722552",
     "exception": false,
     "start_time": "2021-06-29T16:53:23.718470",
     "status": "completed"
    },
    "tags": []
   },
   "outputs": [],
   "source": [
    "data['text'] = data['text'].apply(process) \n",
    "data.head()"
   ]
  },
  {
   "cell_type": "code",
   "execution_count": null,
   "id": "60712a36",
   "metadata": {},
   "outputs": [],
   "source": [
    "# test_data\n",
    "test_data['text'] = test_data['text'].apply(process) \n",
    "test_data.head()"
   ]
  },
  {
   "cell_type": "code",
   "execution_count": null,
   "id": "particular-shooting",
   "metadata": {
    "execution": {
     "iopub.execute_input": "2021-06-29T16:53:26.346822Z",
     "iopub.status.busy": "2021-06-29T16:53:26.341634Z",
     "iopub.status.idle": "2021-06-29T16:53:26.454604Z",
     "shell.execute_reply": "2021-06-29T16:53:26.454005Z",
     "shell.execute_reply.started": "2021-06-29T15:57:27.189511Z"
    },
    "papermill": {
     "duration": 0.187077,
     "end_time": "2021-06-29T16:53:26.454752",
     "exception": false,
     "start_time": "2021-06-29T16:53:26.267675",
     "status": "completed"
    },
    "tags": []
   },
   "outputs": [],
   "source": [
    "def string (text):\n",
    "    to_return=\"\"\n",
    "    for i in list(text):\n",
    "        to_return += str(i) + \" \"\n",
    "    to_return = to_return[:-1]\n",
    "    \n",
    "    return to_return\n",
    "    \n",
    "       \n",
    "data['text'] = data['text'].apply(string)\n",
    "data.head()  "
   ]
  },
  {
   "cell_type": "code",
   "execution_count": null,
   "id": "broadband-equipment",
   "metadata": {
    "execution": {
     "iopub.execute_input": "2021-06-29T16:53:26.603747Z",
     "iopub.status.busy": "2021-06-29T16:53:26.598082Z",
     "iopub.status.idle": "2021-06-29T16:53:26.670764Z",
     "shell.execute_reply": "2021-06-29T16:53:26.670192Z",
     "shell.execute_reply.started": "2021-06-29T15:57:27.310447Z"
    },
    "papermill": {
     "duration": 0.146431,
     "end_time": "2021-06-29T16:53:26.670914",
     "exception": false,
     "start_time": "2021-06-29T16:53:26.524483",
     "status": "completed"
    },
    "tags": []
   },
   "outputs": [],
   "source": [
    "test_data['text'] = test_data['text'].apply(string)\n",
    "test_data.head()"
   ]
  },
  {
   "cell_type": "code",
   "execution_count": null,
   "id": "secure-madonna",
   "metadata": {
    "execution": {
     "iopub.execute_input": "2021-06-29T16:53:31.558465Z",
     "iopub.status.busy": "2021-06-29T16:53:31.557769Z",
     "iopub.status.idle": "2021-06-29T16:53:31.566973Z",
     "shell.execute_reply": "2021-06-29T16:53:31.566436Z",
     "shell.execute_reply.started": "2021-06-29T15:57:30.961303Z"
    },
    "papermill": {
     "duration": 0.097277,
     "end_time": "2021-06-29T16:53:31.567108",
     "exception": false,
     "start_time": "2021-06-29T16:53:31.469831",
     "status": "completed"
    },
    "tags": []
   },
   "outputs": [],
   "source": [
    "#Split data into training and testing sets \n",
    "from sklearn.feature_extraction.text import CountVectorizer\n",
    "from sklearn.model_selection import train_test_split\n",
    "x_train, x_test, y_train, y_test = train_test_split(data[\"text\"], \n",
    "                                                    data[\"label\"], test_size = 0.2, random_state = 42)\n",
    "\n",
    "print(\"training set :\",x_train.shape,y_train.shape)\n",
    "print(\"testing set :\",x_test.shape,y_test.shape)"
   ]
  },
  {
   "cell_type": "code",
   "execution_count": null,
   "id": "endangered-bronze",
   "metadata": {
    "execution": {
     "iopub.execute_input": "2021-06-29T16:53:31.732303Z",
     "iopub.status.busy": "2021-06-29T16:53:31.731303Z",
     "iopub.status.idle": "2021-06-29T16:53:31.736198Z",
     "shell.execute_reply": "2021-06-29T16:53:31.736835Z",
     "shell.execute_reply.started": "2021-06-29T15:57:30.977797Z"
    },
    "papermill": {
     "duration": 0.089263,
     "end_time": "2021-06-29T16:53:31.737008",
     "exception": false,
     "start_time": "2021-06-29T16:53:31.647745",
     "status": "completed"
    },
    "tags": []
   },
   "outputs": [],
   "source": [
    "from sklearn.feature_extraction.text import CountVectorizer, TfidfTransformer\n",
    "count_vect = CountVectorizer(stop_words='english')\n",
    "transformer = TfidfTransformer(norm='l2',sublinear_tf=True)\n"
   ]
  },
  {
   "cell_type": "code",
   "execution_count": null,
   "id": "dangerous-content",
   "metadata": {
    "execution": {
     "iopub.execute_input": "2021-06-29T16:53:31.906740Z",
     "iopub.status.busy": "2021-06-29T16:53:31.905715Z",
     "iopub.status.idle": "2021-06-29T16:53:31.913367Z",
     "shell.execute_reply": "2021-06-29T16:53:31.913878Z",
     "shell.execute_reply.started": "2021-06-29T15:57:30.985904Z"
    },
    "papermill": {
     "duration": 0.095695,
     "end_time": "2021-06-29T16:53:31.914067",
     "exception": false,
     "start_time": "2021-06-29T16:53:31.818372",
     "status": "completed"
    },
    "tags": []
   },
   "outputs": [],
   "source": [
    "test_x = test_data['text']\n",
    "test_x"
   ]
  },
  {
   "cell_type": "code",
   "execution_count": null,
   "id": "amazing-practice",
   "metadata": {
    "execution": {
     "iopub.execute_input": "2021-06-29T16:53:32.082580Z",
     "iopub.status.busy": "2021-06-29T16:53:32.081561Z",
     "iopub.status.idle": "2021-06-29T16:53:32.565924Z",
     "shell.execute_reply": "2021-06-29T16:53:32.565326Z",
     "shell.execute_reply.started": "2021-06-29T15:57:31.002308Z"
    },
    "papermill": {
     "duration": 0.569089,
     "end_time": "2021-06-29T16:53:32.566063",
     "exception": false,
     "start_time": "2021-06-29T16:53:31.996974",
     "status": "completed"
    },
    "tags": []
   },
   "outputs": [],
   "source": [
    "x_train_counts = count_vect.fit_transform(x_train)\n",
    "x_train_tfidf = transformer.fit_transform(x_train_counts)\n",
    "\n",
    "print(x_train_counts.shape)\n",
    "print(x_train_tfidf.shape)"
   ]
  },
  {
   "cell_type": "code",
   "execution_count": null,
   "id": "392dddd5",
   "metadata": {},
   "outputs": [],
   "source": [
    "x_train.head()"
   ]
  },
  {
   "cell_type": "code",
   "execution_count": null,
   "id": "underlying-expression",
   "metadata": {
    "execution": {
     "iopub.execute_input": "2021-06-29T16:53:32.749028Z",
     "iopub.status.busy": "2021-06-29T16:53:32.743435Z",
     "iopub.status.idle": "2021-06-29T16:53:32.989306Z",
     "shell.execute_reply": "2021-06-29T16:53:32.990106Z",
     "shell.execute_reply.started": "2021-06-29T15:57:31.489446Z"
    },
    "papermill": {
     "duration": 0.343268,
     "end_time": "2021-06-29T16:53:32.990360",
     "exception": false,
     "start_time": "2021-06-29T16:53:32.647092",
     "status": "completed"
    },
    "tags": []
   },
   "outputs": [],
   "source": [
    "test_x_counts = count_vect.transform(test_x)\n",
    "test_x_tfidf = transformer.transform(test_x_counts)\n",
    "\n",
    "print(test_x_counts.shape)\n",
    "print(test_x_tfidf.shape)"
   ]
  },
  {
   "cell_type": "code",
   "execution_count": null,
   "id": "e72ccf95",
   "metadata": {},
   "outputs": [],
   "source": [
    "test_x_counts"
   ]
  },
  {
   "cell_type": "code",
   "execution_count": null,
   "id": "formal-initial",
   "metadata": {
    "execution": {
     "iopub.execute_input": "2021-06-29T16:53:33.197564Z",
     "iopub.status.busy": "2021-06-29T16:53:33.192360Z",
     "iopub.status.idle": "2021-06-29T16:53:33.269874Z",
     "shell.execute_reply": "2021-06-29T16:53:33.269313Z",
     "shell.execute_reply.started": "2021-06-29T15:57:31.745195Z"
    },
    "papermill": {
     "duration": 0.190021,
     "end_time": "2021-06-29T16:53:33.270071",
     "exception": false,
     "start_time": "2021-06-29T16:53:33.080050",
     "status": "completed"
    },
    "tags": []
   },
   "outputs": [],
   "source": [
    "x_test_counts = count_vect.transform(x_test)\n",
    "x_test_tfidf = transformer.transform(x_test_counts)\n",
    "\n",
    "print(x_test_counts.shape)\n",
    "print(x_test_tfidf.shape)"
   ]
  },
  {
   "cell_type": "markdown",
   "id": "billion-charter",
   "metadata": {
    "papermill": {
     "duration": 0.08218,
     "end_time": "2021-06-29T16:53:33.436323",
     "exception": false,
     "start_time": "2021-06-29T16:53:33.354143",
     "status": "completed"
    },
    "tags": []
   },
   "source": [
    "#Model building"
   ]
  },
  {
   "cell_type": "markdown",
   "id": "lasting-scroll",
   "metadata": {
    "papermill": {
     "duration": 0.081593,
     "end_time": "2021-06-29T16:53:33.600539",
     "exception": false,
     "start_time": "2021-06-29T16:53:33.518946",
     "status": "completed"
    },
    "tags": []
   },
   "source": [
    "#Random Forest Classifier"
   ]
  },
  {
   "cell_type": "code",
   "execution_count": null,
   "id": "ranking-rebecca",
   "metadata": {
    "execution": {
     "iopub.execute_input": "2021-06-29T16:53:33.769322Z",
     "iopub.status.busy": "2021-06-29T16:53:33.768539Z",
     "iopub.status.idle": "2021-06-29T16:54:10.766857Z",
     "shell.execute_reply": "2021-06-29T16:54:10.767367Z",
     "shell.execute_reply.started": "2021-06-29T15:57:31.851674Z"
    },
    "papermill": {
     "duration": 37.085163,
     "end_time": "2021-06-29T16:54:10.767564",
     "exception": false,
     "start_time": "2021-06-29T16:53:33.682401",
     "status": "completed"
    },
    "tags": []
   },
   "outputs": [],
   "source": [
    "from sklearn.ensemble import RandomForestClassifier\n",
    "model = RandomForestClassifier(n_estimators=200)\n",
    "model.fit(x_train_tfidf,y_train)"
   ]
  },
  {
   "cell_type": "code",
   "execution_count": null,
   "id": "adjustable-circuit",
   "metadata": {
    "execution": {
     "iopub.execute_input": "2021-06-29T16:54:10.940586Z",
     "iopub.status.busy": "2021-06-29T16:54:10.939502Z",
     "iopub.status.idle": "2021-06-29T16:54:13.468042Z",
     "shell.execute_reply": "2021-06-29T16:54:13.467479Z",
     "shell.execute_reply.started": "2021-06-29T15:58:08.176032Z"
    },
    "papermill": {
     "duration": 2.617942,
     "end_time": "2021-06-29T16:54:13.468207",
     "exception": false,
     "start_time": "2021-06-29T16:54:10.850265",
     "status": "completed"
    },
    "tags": []
   },
   "outputs": [],
   "source": [
    "predictions = model.predict(x_test_tfidf)"
   ]
  },
  {
   "cell_type": "code",
   "execution_count": null,
   "id": "numerous-complexity",
   "metadata": {
    "execution": {
     "iopub.execute_input": "2021-06-29T16:54:13.638877Z",
     "iopub.status.busy": "2021-06-29T16:54:13.637777Z",
     "iopub.status.idle": "2021-06-29T16:54:20.293424Z",
     "shell.execute_reply": "2021-06-29T16:54:20.292736Z",
     "shell.execute_reply.started": "2021-06-29T15:58:10.669906Z"
    },
    "papermill": {
     "duration": 6.742598,
     "end_time": "2021-06-29T16:54:20.293575",
     "exception": false,
     "start_time": "2021-06-29T16:54:13.550977",
     "status": "completed"
    },
    "tags": []
   },
   "outputs": [],
   "source": [
    "submission  = model.predict(test_x_tfidf)"
   ]
  },
  {
   "cell_type": "code",
   "execution_count": null,
   "id": "biological-staff",
   "metadata": {
    "execution": {
     "iopub.execute_input": "2021-06-29T16:54:20.464769Z",
     "iopub.status.busy": "2021-06-29T16:54:20.463804Z",
     "iopub.status.idle": "2021-06-29T16:54:20.469785Z",
     "shell.execute_reply": "2021-06-29T16:54:20.469163Z",
     "shell.execute_reply.started": "2021-06-29T15:58:17.291331Z"
    },
    "papermill": {
     "duration": 0.09297,
     "end_time": "2021-06-29T16:54:20.469922",
     "exception": false,
     "start_time": "2021-06-29T16:54:20.376952",
     "status": "completed"
    },
    "tags": []
   },
   "outputs": [],
   "source": [
    "#Accuracy_score\n",
    "from sklearn.metrics import accuracy_score\n",
    "rfac=accuracy_score(y_test,predictions)*100"
   ]
  },
  {
   "cell_type": "code",
   "execution_count": null,
   "id": "02f7a48c",
   "metadata": {},
   "outputs": [],
   "source": [
    "rfac"
   ]
  },
  {
   "cell_type": "code",
   "execution_count": null,
   "id": "6ac4fce8",
   "metadata": {},
   "outputs": [],
   "source": [
    "tokenizer = Tokenizer(num_words=5000)"
   ]
  },
  {
   "cell_type": "code",
   "execution_count": null,
   "id": "15aff6e6",
   "metadata": {},
   "outputs": [],
   "source": [
    "def rfpredict_sentiment(text):\n",
    "    fbcom = tokenizer.texts_to_sequences([text])\n",
    "    fbcom = pad_sequences(fbcom,maxlen=1355)\n",
    "    prediction = int(model.predict(fbcom).round().item())\n",
    "    #return prediction\n",
    "    if prediction==1:\n",
    "        return \"Predicted label: Posetive\"\n",
    "    else:\n",
    "        return \"Predicted label: Negative\"\n",
    "    #print(\"Predicted label: \",[prediction])"
   ]
  },
  {
   "cell_type": "code",
   "execution_count": null,
   "id": "76bd941f",
   "metadata": {},
   "outputs": [],
   "source": [
    "outputs = gr.outputs.Textbox()\n",
    "app = gr.Interface(fn=rfpredict_sentiment, \n",
    "                   inputs='text', \n",
    "                   outputs=gradio.outputs.Textbox(),\n",
    "                   description=\"This is sentment anlysis of ORB customer comments\")"
   ]
  },
  {
   "cell_type": "code",
   "execution_count": null,
   "id": "ea94acc7",
   "metadata": {},
   "outputs": [],
   "source": [
    "app.launch()"
   ]
  }
 ],
 "metadata": {
  "kernelspec": {
   "display_name": "Python 3 (ipykernel)",
   "language": "python",
   "name": "python3"
  },
  "language_info": {
   "codemirror_mode": {
    "name": "ipython",
    "version": 3
   },
   "file_extension": ".py",
   "mimetype": "text/x-python",
   "name": "python",
   "nbconvert_exporter": "python",
   "pygments_lexer": "ipython3",
   "version": "3.7.12"
  },
  "papermill": {
   "default_parameters": {},
   "duration": 140.013844,
   "end_time": "2021-06-29T16:55:14.938586",
   "environment_variables": {},
   "exception": null,
   "input_path": "__notebook__.ipynb",
   "output_path": "__notebook__.ipynb",
   "parameters": {},
   "start_time": "2021-06-29T16:52:54.924742",
   "version": "2.3.3"
  }
 },
 "nbformat": 4,
 "nbformat_minor": 5
}
